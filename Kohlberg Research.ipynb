{
 "cells": [
  {
   "cell_type": "markdown",
   "id": "f21734ed",
   "metadata": {},
   "source": [
    "## Import Packages"
   ]
  },
  {
   "cell_type": "code",
   "execution_count": 19,
   "id": "5eed34e3",
   "metadata": {},
   "outputs": [],
   "source": [
    "import speech_recognition as sr\n",
    "import whisper\n",
    "\n",
    "import jiwer\n",
    "import matplotlib.pyplot as plt\n",
    "import seaborn as sns\n",
    "import pandas as pd"
   ]
  },
  {
   "cell_type": "markdown",
   "id": "c763c5b0",
   "metadata": {},
   "source": [
    "## Utilize the speech_recognition package and apply google API"
   ]
  },
  {
   "cell_type": "code",
   "execution_count": 5,
   "id": "5eb09962",
   "metadata": {},
   "outputs": [
    {
     "data": {
      "text/plain": [
       "speech_recognition.audio.AudioData"
      ]
     },
     "execution_count": 5,
     "metadata": {},
     "output_type": "execute_result"
    }
   ],
   "source": [
    "r = sr.Recognizer()\n",
    "audio = sr.AudioFile('/Users/miaonodera/Desktop/kolhberg_research/audio.flac')\n",
    "with audio as source:\n",
    "    audio = r.record(source)\n",
    "type(audio)"
   ]
  },
  {
   "cell_type": "code",
   "execution_count": 6,
   "id": "aa9188e7",
   "metadata": {},
   "outputs": [],
   "source": [
    "google_text = r.recognize_google(audio)"
   ]
  },
  {
   "cell_type": "code",
   "execution_count": 8,
   "id": "e95cb14e",
   "metadata": {},
   "outputs": [
    {
     "data": {
      "text/plain": [
       "\"ladies and gentlemen of the jury today we are here to uncover the truth about the theft of the Priceless painting the dawn of Eve we will demonstrate Beyond a reasonable doubt that the defendant Jordan Blake orchestrated this elaborate theft thank you Sam however the truth is my client Jordan Blake has been wrongfully accused based on circumstantial evidence there is no concrete proof linking Jordan to the crime scene in fact we have Alibi witness and digital evidence that the place Jordan Miles Away at the time of the test Taylor the argument my song called the evidence surveillance video from the night of the theft clearly shows the figure resembling Georgia period it's entirely plausible that the real Thief used Jordan's phone to throw off the investigation was discovered in a storage unit rented under Jordan's name how could not be involved the storage unit contract was forged someone else used Jordans identity to rent that unit we have handwriting analysis from a forensic expert confirming that the signature on the lease agreement does not match Jordans usual signature interesting however the Dreamhouse remember that all Trails lead back to Jordan the coins coincidences here are two great to be merely dismissed as someone else framing my client and yet Sam in our justice system is not enough to rely on coincidences we need undeniable proof and the prosecution has not provided that remember ladies and gentlemen the burden of proof lies with it with the prosecution they must prove my client's guilt Beyond A Reasonable Doubt and they have failed to do so thank you Taylor we believe that when all facts are considered the evidence not only suggest but clearly indicates that Jordan was involved in the Theft Auto the jury to consider this evidence and return a verdict of guilty for the crime Jordan committed and I trust ladies and gentlemen you will see the gaps in the prosecution's case and return the only speaks to the truth of the matter Jordan Blake is not guilty thank you\""
      ]
     },
     "execution_count": 8,
     "metadata": {},
     "output_type": "execute_result"
    }
   ],
   "source": [
    "google_text"
   ]
  },
  {
   "cell_type": "markdown",
   "id": "25c445ae",
   "metadata": {},
   "source": [
    "## Utilize the whisper package and apply whisper API by OpenAI"
   ]
  },
  {
   "cell_type": "code",
   "execution_count": 1,
   "id": "a6b6f6a2",
   "metadata": {},
   "outputs": [
    {
     "name": "stderr",
     "output_type": "stream",
     "text": [
      "/Users/miaonodera/opt/anaconda3/lib/python3.9/site-packages/whisper/transcribe.py:115: UserWarning: FP16 is not supported on CPU; using FP32 instead\n",
      "  warnings.warn(\"FP16 is not supported on CPU; using FP32 instead\")\n",
      "[W NNPACK.cpp:51] Could not initialize NNPACK! Reason: Unsupported hardware.\n"
     ]
    },
    {
     "name": "stdout",
     "output_type": "stream",
     "text": [
      " The text in video: \n",
      "  Ladies and gentlemen of the jury today we are here to uncover the truth about the left of the priceless painting the dawn of Eve We will demonstrate beyond a reasonable doubt that the defendant Jordan Blake orchestrated this elaborate theft Thank you Sam. However, the truth is my client Jordan Blake has been wrongfully accused based on circumstantial evidence There is no concrete proof linking Jordan to the crime scene In fact, we have alibi witness and digital evidence that the police Jordan miles away at the time of the theft Taylor the argument might sound convincing out first However, let's examine the evidence Surveillance video from the night of the theft clearly shows the figure resembling Jordan entering the museum Furthermore five fiveers found on a broken window. Mashla gloves found in Jordan's car Sam as you know appearance can be deceiving The figure in the video is obscured and unidentifiable Regarding the fibers. It's a common type of glove sold in hundreds of stores associating it with my client is purely speculative speculative and not based on solid evidence Let's talk about the phone records then calls are made from Jordan's phones to known accomplices and the hours leading up to the theft How do you explain that? My client's phone was stolen earlier that day. Jordan reported it to the police hours before the theft occurred It's entirely plausible that the real thief used Jordan's phone to throw off the investigation Moving forward. Let's consider the found items The stolen painting was discovered in a storage unit rented under Jordan's name. How could Jordan not be involved? The storage unit contract was forged someone else used Jordan's identity to rent that unit We have handwriting analysis from a forensic expert confirming that the signature on the lease agreement does not match Jordan's usual signature Interesting point Taylor however the jury must remember that all trails lead back to Jordan the co-incidences here are too great to be Merle dismissed as someone else framing my client And yet Sam in our justice system is not enough to rely on Coincidences. We need undeniable proof and the prosecution has not provided that Remember ladies and gentlemen the burden of proof lies with it with the prosecution They must prove my clients guilt beyond a reasonable doubt and they have failed to do so Thank you Taylor. We believe that when all facts are considered the evidence not only suggest But clearly indicates that Jordan was involved in the theft. It's up to you the jury to consider this evidence and return a verdict of guilty for the crime Jordan committed And I trust ladies and gentlemen You will see the gaps in the prosecution's case and return the only verdict that speaks to the truth of the matter Jordan Blake is not guilty. Thank you\n"
     ]
    }
   ],
   "source": [
    "model = whisper.load_model(\"base\")\n",
    "result = model.transcribe(\"/Users/miaonodera/Desktop/kolhberg_research/audio.mp3\")\n",
    "print(f' The text in video: \\n {result[\"text\"]}')\n",
    "transcribed_text = result[\"text\"]"
   ]
  },
  {
   "cell_type": "markdown",
   "id": "157e02eb",
   "metadata": {},
   "source": [
    "## Convert to text file to allow for consistent spacing and indentation"
   ]
  },
  {
   "cell_type": "code",
   "execution_count": 9,
   "id": "923a1446",
   "metadata": {},
   "outputs": [],
   "source": [
    "output_file_path = '/Users/miaonodera/Desktop/kolhberg_research/google-api.txt'\n",
    "with open(output_file_path, \"w\") as output_file:\n",
    "    output_file.write(google_text)"
   ]
  },
  {
   "cell_type": "code",
   "execution_count": 7,
   "id": "c2a81b99",
   "metadata": {},
   "outputs": [],
   "source": [
    "output_file_path = '/Users/miaonodera/Desktop/kolhberg_research/whisper-api.txt'\n",
    "with open(output_file_path, \"w\") as output_file:\n",
    "    output_file.write(transcribed_text)"
   ]
  },
  {
   "cell_type": "code",
   "execution_count": 15,
   "id": "3ab64dbc",
   "metadata": {},
   "outputs": [],
   "source": [
    "def read_text_file(file_path):\n",
    "    with open(file_path, 'r') as file:\n",
    "        return file.read().lower()\n",
    "\n",
    "google_api = '/Users/miaonodera/Desktop/kolhberg_research/google-api.txt'  # Replace with your reference file path\n",
    "whisper_api = '/Users/miaonodera/Desktop/kolhberg_research/whisper-api.txt'  # Replace with your hypothesis file path\n",
    "real_trans = '/Users/miaonodera/Desktop/kolhberg_research/real_trans.txt'  # Replace with your hypot\n",
    "\n",
    "reference_text = read_text_file(real_trans)\n",
    "google_text = read_text_file(google_api)\n",
    "whisper_text = read_text_file(whisper_api)"
   ]
  },
  {
   "cell_type": "markdown",
   "id": "5e13dec9",
   "metadata": {},
   "source": [
    "## Identify the WER and plot differences"
   ]
  },
  {
   "cell_type": "code",
   "execution_count": 16,
   "id": "14f495de",
   "metadata": {},
   "outputs": [
    {
     "name": "stdout",
     "output_type": "stream",
     "text": [
      "Word Error Rate for google api: 43.61%\n",
      "Word Error Rate for whisper api: 19.92%\n"
     ]
    }
   ],
   "source": [
    "error1 = jiwer.wer(reference_text, google_text)\n",
    "print(f\"Word Error Rate for google api: {error1:.2%}\")\n",
    "\n",
    "error2 = jiwer.wer(reference_text, whisper_text)\n",
    "print(f\"Word Error Rate for whisper api: {error2:.2%}\")"
   ]
  },
  {
   "cell_type": "code",
   "execution_count": 29,
   "id": "c0d63bf0",
   "metadata": {},
   "outputs": [
    {
     "data": {
      "text/plain": [
       "[0.4360587002096436, 0.43243243243243246, 0.5457985958753839]"
      ]
     },
     "execution_count": 29,
     "metadata": {},
     "output_type": "execute_result"
    }
   ],
   "source": [
    "google_scores"
   ]
  },
  {
   "cell_type": "code",
   "execution_count": 36,
   "id": "875ab87d",
   "metadata": {},
   "outputs": [
    {
     "data": {
      "image/png": "[encoded data removed]",
      "text/plain": [
       "<Figure size 640x480 with 1 Axes>"
      ]
     },
     "metadata": {},
     "output_type": "display_data"
    }
   ],
   "source": [
    "def compute_metrics(reference, hypothesis):\n",
    "    return jiwer.compute_measures(reference, hypothesis)\n",
    "\n",
    "# Calculate metrics\n",
    "google_metrics = compute_metrics(reference_text, google_text)\n",
    "whisper_metrics = compute_metrics(reference_text, whisper_text)\n",
    "\n",
    "labels = ['WER', 'MER', 'WIL']\n",
    "x = list(range(len(labels)))  \n",
    "width = 0.35 \n",
    "\n",
    "google_scores_percent = [score * 100 for score in google_scores]\n",
    "whisper_scores_percent = [score * 100 for score in whisper_scores]\n",
    "\n",
    "fig, ax = plt.subplots()\n",
    "rects1 = ax.bar([xi - width/2 for xi in x], google_scores_percent, width, label='Google API', color = 'dodgerblue')\n",
    "rects2 = ax.bar([xi + width/2 for xi in x], whisper_scores_percent, width, label='Whisper API', color = 'limegreen')\n",
    "\n",
    "ax.set_ylabel('Scores (%)')\n",
    "ax.set_title('Comparison of Transcription APIs')\n",
    "ax.set_xticks(x)\n",
    "ax.set_xticklabels(labels)\n",
    "ax.legend()\n",
    "\n",
    "fig.tight_layout()\n",
    "plt.show()\n"
   ]
  }
 ],
 "metadata": {
  "kernelspec": {
   "display_name": "Python 3 (ipykernel)",
   "language": "python",
   "name": "python3"
  },
  "language_info": {
   "codemirror_mode": {
    "name": "ipython",
    "version": 3
   },
   "file_extension": ".py",
   "mimetype": "text/x-python",
   "name": "python",
   "nbconvert_exporter": "python",
   "pygments_lexer": "ipython3",
   "version": "3.9.19"
  }
 },
 "nbformat": 4,
 "nbformat_minor": 5
}
